{
 "cells": [
  {
   "cell_type": "code",
   "execution_count": 25,
   "metadata": {},
   "outputs": [],
   "source": [
    "import pandas as pd"
   ]
  },
  {
   "cell_type": "code",
   "execution_count": 26,
   "metadata": {},
   "outputs": [],
   "source": [
    "import re"
   ]
  },
  {
   "cell_type": "code",
   "execution_count": 27,
   "metadata": {},
   "outputs": [
    {
     "name": "stdout",
     "output_type": "stream",
     "text": [
      "1.5.3\n"
     ]
    }
   ],
   "source": [
    "print(pd.__version__)"
   ]
  },
  {
   "cell_type": "code",
   "execution_count": 30,
   "metadata": {},
   "outputs": [],
   "source": [
    "df = pd.read_csv('D:/Binar/Challenge/BinarChallenge1/AssetChallenge/abusive.csv')"
   ]
  },
  {
   "cell_type": "code",
   "execution_count": 31,
   "metadata": {},
   "outputs": [
    {
     "data": {
      "text/html": [
       "<div>\n",
       "<style scoped>\n",
       "    .dataframe tbody tr th:only-of-type {\n",
       "        vertical-align: middle;\n",
       "    }\n",
       "\n",
       "    .dataframe tbody tr th {\n",
       "        vertical-align: top;\n",
       "    }\n",
       "\n",
       "    .dataframe thead th {\n",
       "        text-align: right;\n",
       "    }\n",
       "</style>\n",
       "<table border=\"1\" class=\"dataframe\">\n",
       "  <thead>\n",
       "    <tr style=\"text-align: right;\">\n",
       "      <th></th>\n",
       "      <th>ABUSIVE</th>\n",
       "    </tr>\n",
       "  </thead>\n",
       "  <tbody>\n",
       "    <tr>\n",
       "      <th>0</th>\n",
       "      <td>alay</td>\n",
       "    </tr>\n",
       "    <tr>\n",
       "      <th>1</th>\n",
       "      <td>ampas</td>\n",
       "    </tr>\n",
       "    <tr>\n",
       "      <th>2</th>\n",
       "      <td>buta</td>\n",
       "    </tr>\n",
       "    <tr>\n",
       "      <th>3</th>\n",
       "      <td>keparat</td>\n",
       "    </tr>\n",
       "    <tr>\n",
       "      <th>4</th>\n",
       "      <td>anjing</td>\n",
       "    </tr>\n",
       "  </tbody>\n",
       "</table>\n",
       "</div>"
      ],
      "text/plain": [
       "   ABUSIVE\n",
       "0     alay\n",
       "1    ampas\n",
       "2     buta\n",
       "3  keparat\n",
       "4   anjing"
      ]
     },
     "execution_count": 31,
     "metadata": {},
     "output_type": "execute_result"
    }
   ],
   "source": [
    "df.head()"
   ]
  },
  {
   "cell_type": "code",
   "execution_count": 32,
   "metadata": {},
   "outputs": [
    {
     "name": "stdout",
     "output_type": "stream",
     "text": [
      "<class 'pandas.core.series.Series'>\n",
      "RangeIndex: 125 entries, 0 to 124\n",
      "Series name: ABUSIVE\n",
      "Non-Null Count  Dtype \n",
      "--------------  ----- \n",
      "125 non-null    object\n",
      "dtypes: object(1)\n",
      "memory usage: 1.1+ KB\n"
     ]
    }
   ],
   "source": [
    "df['ABUSIVE'].info()"
   ]
  },
  {
   "cell_type": "code",
   "execution_count": 39,
   "metadata": {},
   "outputs": [],
   "source": [
    "def censor(replaceword):\n",
    "    abusiveword = df['ABUSIVE'].tolist()\n",
    "    abusivearr = []\n",
    "    for i, df in enumerate(abusiveword):\n",
    "        abusivearr.append(df)\n",
    "        for abusivearr in abusiveword:\n",
    "            replaceword = re.sub(abusivearr, '*', * len(word), flags=re.IGNORECASE)\n",
    "            print(f\"Forbidden word REMOVED: {word}\")\n",
    "    return replaceword"
   ]
  },
  {
   "cell_type": "code",
   "execution_count": 40,
   "metadata": {},
   "outputs": [
    {
     "name": "stdout",
     "output_type": "stream",
     "text": [
      "<function censor at 0x000001E2FF6F85E0>\n"
     ]
    }
   ],
   "source": [
    "print(censor)"
   ]
  },
  {
   "cell_type": "code",
   "execution_count": 13,
   "metadata": {},
   "outputs": [
    {
     "name": "stdout",
     "output_type": "stream",
     "text": [
      "0             alay\n",
      "1            ampas\n",
      "2             buta\n",
      "3          keparat\n",
      "4           anjing\n",
      "          ...     \n",
      "120          rezim\n",
      "121          sange\n",
      "122         serbet\n",
      "123          sipit\n",
      "124    transgender\n",
      "Name: ABUSIVE, Length: 125, dtype: object\n"
     ]
    }
   ],
   "source": [
    "print(abusiveword)"
   ]
  },
  {
   "cell_type": "code",
   "execution_count": 9,
   "metadata": {},
   "outputs": [],
   "source": [
    "# def censor(replaceword):\n",
    "#     for word in abusiveword:\n",
    "#         pattern = r\"\\b{}\\b\".format(word)\n",
    "#         if re.search(pattern, replaceword, re.IGNORECASE):\n",
    "#             replaceword = re.sub(pattern, '*' * len(word), replaceword, flags=re.IGNORECASE)\n",
    "#             print(f\"Forbidden word REMOVED: {word}\")\n",
    "#     return replaceword"
   ]
  },
  {
   "cell_type": "code",
   "execution_count": 10,
   "metadata": {},
   "outputs": [],
   "source": [
    "def censor(replaceword):\n",
    "    for word in abusiveword:\n",
    "        replaceword = re.sub(abusiveword, '*', * len(word), flags=re.IGNORECASE)\n",
    "        print(f\"Forbidden word REMOVED: {word}\")\n",
    "    return replaceword"
   ]
  },
  {
   "cell_type": "code",
   "execution_count": 11,
   "metadata": {},
   "outputs": [
    {
     "name": "stdout",
     "output_type": "stream",
     "text": [
      "<function censor at 0x000001E2F221B6A0>\n"
     ]
    }
   ],
   "source": [
    "print(censor)"
   ]
  },
  {
   "cell_type": "code",
   "execution_count": null,
   "metadata": {},
   "outputs": [],
   "source": []
  }
 ],
 "metadata": {
  "kernelspec": {
   "display_name": "envbinar",
   "language": "python",
   "name": "python3"
  },
  "language_info": {
   "codemirror_mode": {
    "name": "ipython",
    "version": 3
   },
   "file_extension": ".py",
   "mimetype": "text/x-python",
   "name": "python",
   "nbconvert_exporter": "python",
   "pygments_lexer": "ipython3",
   "version": "3.11.0"
  },
  "orig_nbformat": 4
 },
 "nbformat": 4,
 "nbformat_minor": 2
}
