{
 "cells": [
  {
   "cell_type": "code",
   "execution_count": 181,
   "metadata": {},
   "outputs": [],
   "source": [
    "# import subset\n",
    "\n",
    "import pandas as pd\n",
    "import re\n",
    "from matplotlib import pyplot as plt\n",
    "import seaborn as sns\n",
    "import numpy as np\n",
    "from PIL import features\n",
    "import sqlite3"
   ]
  },
  {
   "cell_type": "code",
   "execution_count": 182,
   "metadata": {},
   "outputs": [],
   "source": [
    "# membaca data dari file csv\n",
    "\n",
    "data = pd.read_csv(\"D:/Binar/Challenge/BinarChallenge1/AssetChallenge/data.csv\", encoding='latin-1')\n",
    "\n",
    "df_abusive = pd.read_csv(\"D:/Binar/Challenge/BinarChallenge1/AssetChallenge/abusive.csv\")\n",
    "df_kbbi = pd.read_csv(\"D:/Binar/Challenge/BinarChallenge1/AssetChallenge/new_kamusalay.csv\", encoding='latin-1', names=['TIDAKBAKU', 'BAKU'])\n"
   ]
  },
  {
   "cell_type": "code",
   "execution_count": 183,
   "metadata": {},
   "outputs": [
    {
     "data": {
      "text/html": [
       "<div>\n",
       "<style scoped>\n",
       "    .dataframe tbody tr th:only-of-type {\n",
       "        vertical-align: middle;\n",
       "    }\n",
       "\n",
       "    .dataframe tbody tr th {\n",
       "        vertical-align: top;\n",
       "    }\n",
       "\n",
       "    .dataframe thead th {\n",
       "        text-align: right;\n",
       "    }\n",
       "</style>\n",
       "<table border=\"1\" class=\"dataframe\">\n",
       "  <thead>\n",
       "    <tr style=\"text-align: right;\">\n",
       "      <th></th>\n",
       "      <th>Tweet</th>\n",
       "      <th>HS</th>\n",
       "      <th>Abusive</th>\n",
       "      <th>HS_Individual</th>\n",
       "      <th>HS_Group</th>\n",
       "      <th>HS_Religion</th>\n",
       "      <th>HS_Race</th>\n",
       "      <th>HS_Physical</th>\n",
       "      <th>HS_Gender</th>\n",
       "      <th>HS_Other</th>\n",
       "      <th>HS_Weak</th>\n",
       "      <th>HS_Moderate</th>\n",
       "      <th>HS_Strong</th>\n",
       "    </tr>\n",
       "  </thead>\n",
       "  <tbody>\n",
       "    <tr>\n",
       "      <th>0</th>\n",
       "      <td>- disaat semua cowok berusaha melacak perhatia...</td>\n",
       "      <td>1</td>\n",
       "      <td>1</td>\n",
       "      <td>1</td>\n",
       "      <td>0</td>\n",
       "      <td>0</td>\n",
       "      <td>0</td>\n",
       "      <td>0</td>\n",
       "      <td>0</td>\n",
       "      <td>1</td>\n",
       "      <td>1</td>\n",
       "      <td>0</td>\n",
       "      <td>0</td>\n",
       "    </tr>\n",
       "    <tr>\n",
       "      <th>1</th>\n",
       "      <td>RT USER: USER siapa yang telat ngasih tau elu?...</td>\n",
       "      <td>0</td>\n",
       "      <td>1</td>\n",
       "      <td>0</td>\n",
       "      <td>0</td>\n",
       "      <td>0</td>\n",
       "      <td>0</td>\n",
       "      <td>0</td>\n",
       "      <td>0</td>\n",
       "      <td>0</td>\n",
       "      <td>0</td>\n",
       "      <td>0</td>\n",
       "      <td>0</td>\n",
       "    </tr>\n",
       "    <tr>\n",
       "      <th>2</th>\n",
       "      <td>41. Kadang aku berfikir, kenapa aku tetap perc...</td>\n",
       "      <td>0</td>\n",
       "      <td>0</td>\n",
       "      <td>0</td>\n",
       "      <td>0</td>\n",
       "      <td>0</td>\n",
       "      <td>0</td>\n",
       "      <td>0</td>\n",
       "      <td>0</td>\n",
       "      <td>0</td>\n",
       "      <td>0</td>\n",
       "      <td>0</td>\n",
       "      <td>0</td>\n",
       "    </tr>\n",
       "    <tr>\n",
       "      <th>3</th>\n",
       "      <td>USER USER AKU ITU AKU\\n\\nKU TAU MATAMU SIPIT T...</td>\n",
       "      <td>0</td>\n",
       "      <td>0</td>\n",
       "      <td>0</td>\n",
       "      <td>0</td>\n",
       "      <td>0</td>\n",
       "      <td>0</td>\n",
       "      <td>0</td>\n",
       "      <td>0</td>\n",
       "      <td>0</td>\n",
       "      <td>0</td>\n",
       "      <td>0</td>\n",
       "      <td>0</td>\n",
       "    </tr>\n",
       "    <tr>\n",
       "      <th>4</th>\n",
       "      <td>USER USER Kaum cebong kapir udah keliatan dong...</td>\n",
       "      <td>1</td>\n",
       "      <td>1</td>\n",
       "      <td>0</td>\n",
       "      <td>1</td>\n",
       "      <td>1</td>\n",
       "      <td>0</td>\n",
       "      <td>0</td>\n",
       "      <td>0</td>\n",
       "      <td>0</td>\n",
       "      <td>0</td>\n",
       "      <td>1</td>\n",
       "      <td>0</td>\n",
       "    </tr>\n",
       "  </tbody>\n",
       "</table>\n",
       "</div>"
      ],
      "text/plain": [
       "                                               Tweet  HS  Abusive  \\\n",
       "0  - disaat semua cowok berusaha melacak perhatia...   1        1   \n",
       "1  RT USER: USER siapa yang telat ngasih tau elu?...   0        1   \n",
       "2  41. Kadang aku berfikir, kenapa aku tetap perc...   0        0   \n",
       "3  USER USER AKU ITU AKU\\n\\nKU TAU MATAMU SIPIT T...   0        0   \n",
       "4  USER USER Kaum cebong kapir udah keliatan dong...   1        1   \n",
       "\n",
       "   HS_Individual  HS_Group  HS_Religion  HS_Race  HS_Physical  HS_Gender  \\\n",
       "0              1         0            0        0            0          0   \n",
       "1              0         0            0        0            0          0   \n",
       "2              0         0            0        0            0          0   \n",
       "3              0         0            0        0            0          0   \n",
       "4              0         1            1        0            0          0   \n",
       "\n",
       "   HS_Other  HS_Weak  HS_Moderate  HS_Strong  \n",
       "0         1        1            0          0  \n",
       "1         0        0            0          0  \n",
       "2         0        0            0          0  \n",
       "3         0        0            0          0  \n",
       "4         0        0            1          0  "
      ]
     },
     "execution_count": 183,
     "metadata": {},
     "output_type": "execute_result"
    }
   ],
   "source": [
    "data.head()"
   ]
  },
  {
   "cell_type": "code",
   "execution_count": 184,
   "metadata": {},
   "outputs": [
    {
     "name": "stdout",
     "output_type": "stream",
     "text": [
      "<class 'pandas.core.frame.DataFrame'>\n",
      "RangeIndex: 13169 entries, 0 to 13168\n",
      "Data columns (total 13 columns):\n",
      " #   Column         Non-Null Count  Dtype \n",
      "---  ------         --------------  ----- \n",
      " 0   Tweet          13169 non-null  object\n",
      " 1   HS             13169 non-null  int64 \n",
      " 2   Abusive        13169 non-null  int64 \n",
      " 3   HS_Individual  13169 non-null  int64 \n",
      " 4   HS_Group       13169 non-null  int64 \n",
      " 5   HS_Religion    13169 non-null  int64 \n",
      " 6   HS_Race        13169 non-null  int64 \n",
      " 7   HS_Physical    13169 non-null  int64 \n",
      " 8   HS_Gender      13169 non-null  int64 \n",
      " 9   HS_Other       13169 non-null  int64 \n",
      " 10  HS_Weak        13169 non-null  int64 \n",
      " 11  HS_Moderate    13169 non-null  int64 \n",
      " 12  HS_Strong      13169 non-null  int64 \n",
      "dtypes: int64(12), object(1)\n",
      "memory usage: 1.3+ MB\n"
     ]
    }
   ],
   "source": [
    "# cleaning data\n",
    "data.info()"
   ]
  },
  {
   "cell_type": "code",
   "execution_count": 185,
   "metadata": {},
   "outputs": [
    {
     "data": {
      "text/plain": [
       "125"
      ]
     },
     "execution_count": 185,
     "metadata": {},
     "output_type": "execute_result"
    }
   ],
   "source": [
    "data.duplicated().sum()"
   ]
  },
  {
   "cell_type": "code",
   "execution_count": 186,
   "metadata": {},
   "outputs": [
    {
     "name": "stdout",
     "output_type": "stream",
     "text": [
      "<class 'pandas.core.frame.DataFrame'>\n",
      "RangeIndex: 13023 entries, 0 to 13022\n",
      "Data columns (total 14 columns):\n",
      " #   Column         Non-Null Count  Dtype \n",
      "---  ------         --------------  ----- \n",
      " 0   index          13023 non-null  int64 \n",
      " 1   Tweet          13023 non-null  object\n",
      " 2   HS             13023 non-null  int64 \n",
      " 3   Abusive        13023 non-null  int64 \n",
      " 4   HS_Individual  13023 non-null  int64 \n",
      " 5   HS_Group       13023 non-null  int64 \n",
      " 6   HS_Religion    13023 non-null  int64 \n",
      " 7   HS_Race        13023 non-null  int64 \n",
      " 8   HS_Physical    13023 non-null  int64 \n",
      " 9   HS_Gender      13023 non-null  int64 \n",
      " 10  HS_Other       13023 non-null  int64 \n",
      " 11  HS_Weak        13023 non-null  int64 \n",
      " 12  HS_Moderate    13023 non-null  int64 \n",
      " 13  HS_Strong      13023 non-null  int64 \n",
      "dtypes: int64(13), object(1)\n",
      "memory usage: 1.4+ MB\n"
     ]
    }
   ],
   "source": [
    "data = data.drop_duplicates(subset='Tweet', keep='first').reset_index()\n",
    "data.info()"
   ]
  },
  {
   "cell_type": "code",
   "execution_count": 187,
   "metadata": {},
   "outputs": [
    {
     "data": {
      "text/plain": [
       "0"
      ]
     },
     "execution_count": 187,
     "metadata": {},
     "output_type": "execute_result"
    }
   ],
   "source": [
    "data.duplicated().sum()"
   ]
  },
  {
   "cell_type": "code",
   "execution_count": 188,
   "metadata": {},
   "outputs": [],
   "source": [
    "# melihat persentase pola kata kasar vs non kata kasar\n",
    "\n",
    "def kategoriumum(x):\n",
    "    if x['HS'] == 1 and x['Abusive'] == 1:\n",
    "        return 'Mengandung kata kasar'\n",
    "    elif x['HS'] == 1 and x['Abusive'] == 0:\n",
    "        return 'Mengandung kata kasar'\n",
    "    elif x['HS'] == 0 and x['Abusive'] == 1:\n",
    "        return 'Mengandung kata kasar'\n",
    "    else:\n",
    "        return 'Tidak mengandung kata kasar'\n",
    "\n",
    "data['Kategori_umum'] = data.apply(kategoriumum, axis=1)"
   ]
  },
  {
   "cell_type": "code",
   "execution_count": 189,
   "metadata": {},
   "outputs": [
    {
     "data": {
      "text/plain": [
       "Mengandung kata kasar          7243\n",
       "Tidak mengandung kata kasar    5780\n",
       "Name: Kategori_umum, dtype: int64"
      ]
     },
     "execution_count": 189,
     "metadata": {},
     "output_type": "execute_result"
    }
   ],
   "source": [
    "data['Kategori_umum'].value_counts()"
   ]
  },
  {
   "cell_type": "code",
   "execution_count": 190,
   "metadata": {},
   "outputs": [
    {
     "data": {
      "text/plain": [
       "<Axes: xlabel='Kategori_umum', ylabel='count'>"
      ]
     },
     "execution_count": 190,
     "metadata": {},
     "output_type": "execute_result"
    },
    {
     "data": {
      "image/png": "[encoded data removed]",
      "text/plain": [
       "<Figure size 640x480 with 1 Axes>"
      ]
     },
     "metadata": {},
     "output_type": "display_data"
    }
   ],
   "source": [
    "sns.countplot(x=data['Kategori_umum'])"
   ]
  },
  {
   "cell_type": "code",
   "execution_count": 191,
   "metadata": {},
   "outputs": [
    {
     "data": {
      "text/plain": [
       "<Axes: ylabel='Kategori_umum'>"
      ]
     },
     "execution_count": 191,
     "metadata": {},
     "output_type": "execute_result"
    },
    {
     "data": {
      "image/png": "[encoded data removed]",
      "text/plain": [
       "<Figure size 640x480 with 1 Axes>"
      ]
     },
     "metadata": {},
     "output_type": "display_data"
    }
   ],
   "source": [
    "data['Kategori_umum'].value_counts().plot.pie(autopct='%1.0f%%', colors = ['#5A082D','#159895'])"
   ]
  },
  {
   "cell_type": "code",
   "execution_count": 192,
   "metadata": {},
   "outputs": [],
   "source": [
    "# melihat persentase pola kata kasar\n",
    "\n",
    "def kategori(x):\n",
    "    if x['HS'] == 1 and x['Abusive'] == 1:\n",
    "        return 'Hate speech & abusive'\n",
    "    elif x['HS'] == 1 and x['Abusive'] == 0:\n",
    "        return 'Hate speech'\n",
    "    elif x['HS'] == 0 and x['Abusive'] == 1:\n",
    "        return 'Abusive'\n",
    "    else:\n",
    "        return 'None'\n",
    "\n",
    "data['Kategori'] = data.apply(kategori, axis=1)"
   ]
  },
  {
   "cell_type": "code",
   "execution_count": 193,
   "metadata": {},
   "outputs": [
    {
     "data": {
      "text/plain": [
       "None                     5780\n",
       "Hate speech & abusive    3250\n",
       "Hate speech              2251\n",
       "Abusive                  1742\n",
       "Name: Kategori, dtype: int64"
      ]
     },
     "execution_count": 193,
     "metadata": {},
     "output_type": "execute_result"
    }
   ],
   "source": [
    "data['Kategori'].value_counts()"
   ]
  },
  {
   "cell_type": "code",
   "execution_count": 194,
   "metadata": {},
   "outputs": [
    {
     "data": {
      "text/plain": [
       "Hate speech & abusive    3250\n",
       "Hate speech              2251\n",
       "Abusive                  1742\n",
       "Name: Kategori, dtype: int64"
      ]
     },
     "execution_count": 194,
     "metadata": {},
     "output_type": "execute_result"
    }
   ],
   "source": [
    "# cleaning none pada kolom kategori\n",
    "\n",
    "filter = data['Kategori'] == 'None'\n",
    "data[~filter]['Kategori'].value_counts()"
   ]
  },
  {
   "cell_type": "code",
   "execution_count": 195,
   "metadata": {},
   "outputs": [
    {
     "data": {
      "text/plain": [
       "<Axes: ylabel='Kategori'>"
      ]
     },
     "execution_count": 195,
     "metadata": {},
     "output_type": "execute_result"
    },
    {
     "data": {
      "image/png": "[encoded data removed]",
      "text/plain": [
       "<Figure size 640x480 with 1 Axes>"
      ]
     },
     "metadata": {},
     "output_type": "display_data"
    }
   ],
   "source": [
    "# visualisasi data target sasaran kata-kata kasar\n",
    "data[~filter]['Kategori'].value_counts().plot.pie(autopct='%1.0f%%', colors = ['#5A082D','#FF004D','#9D0B28'])"
   ]
  },
  {
   "cell_type": "code",
   "execution_count": 196,
   "metadata": {},
   "outputs": [
    {
     "name": "stdout",
     "output_type": "stream",
     "text": [
      "0     - disaat semua cowok berusaha melacak perhatia...\n",
      "4     USER USER Kaum cebong kapir udah keliatan dong...\n",
      "5     USER Ya bani taplak dkk \\xf0\\x9f\\x98\\x84\\xf0\\x...\n",
      "10    Setidaknya gw punya jari tengah buat lu, sebel...\n",
      "11    USER USER USER USER BANCI KALENG MALU GA BISA ...\n",
      "14    USER Bu guru enakan jadi jablay atau guru esde...\n",
      "15    USER USER USER USER USER USER Lawan bicara gw ...\n",
      "18    Jadi cowo itu harus Gantle kalo ga Gantle itu ...\n",
      "26           Ini si USER kerjaannya delay mulu! Setan!'\n",
      "29    USER USER Itu mah sdh nenek-nenek sy heran sam...\n",
      "Name: Tweet, dtype: object\n"
     ]
    }
   ],
   "source": [
    "#contoh case tweet yang mengandung hate speech dan abusive\n",
    "print(data[(data['HS'] == 1) & (data['Abusive']==1)]['Tweet'][:10])"
   ]
  },
  {
   "cell_type": "code",
   "execution_count": 197,
   "metadata": {},
   "outputs": [
    {
     "name": "stdout",
     "output_type": "stream",
     "text": [
      "USER USER Kaum cebong kapir udah keliatan dongoknya dari awal tambah dongok lagi hahahah'\n"
     ]
    }
   ],
   "source": [
    "print(data[(data['HS'] == 1) & (data['Abusive']==1)]['Tweet'][4])"
   ]
  },
  {
   "cell_type": "code",
   "execution_count": 198,
   "metadata": {},
   "outputs": [
    {
     "name": "stdout",
     "output_type": "stream",
     "text": [
      "13     Aktor huruhara 98 Prabowo S ingin lengserkan p...\n",
      "28     RT USER USER USER PKI hanya muncul jika jelang...\n",
      "30     USER USER USER USER USER USER USER USER USER I...\n",
      "52         pinokio umur 3 taonan tuh. #2019GantiPresiden\n",
      "54                   RT USER benci sekali dgn Umat Islam\n",
      "76     tapi masih menikmati kebijakan yang dulu diusu...\n",
      "77     Kalo seumpama orang cina di usir paksa dari in...\n",
      "81                          PROYEK KORUPSI REZIM SBY URL\n",
      "84     USER USER Terus menurut lo kitab suci agAma ap...\n",
      "95     Jgn salah target bkn ahok... agenda utama leng...\n",
      "96     USER USER masa baru kena hestek aja udah kepan...\n",
      "100    Prabowo Sudah Kalah Menyebut Bantuan Jokowi Ha...\n",
      "105    Padahal gubernur saat ini Djarot. Mayoritas pa...\n",
      "119    Pendaftaran Capres untuk #Pilpres2019 saja bel...\n",
      "122                Cina perusak bangsa!! Usir !! Stuju??\n",
      "133    Moga ini ada tindak lanjutnya!; ; Pelaporan te...\n",
      "135    USER USER USER .\\nOnta mati klo kebanyakan Minum'\n",
      "136    URL Ahok tng mrka trus was-was hdpnya USER USE...\n",
      "137    Itu baru di Sul Teng.. !!!; Ini ekses akibat t...\n",
      "140    USER Tak hanya kurang bertaji nya kpk era ini....\n",
      "Name: Tweet, dtype: object\n"
     ]
    }
   ],
   "source": [
    "#contoh case tweet yang mengandung hate speech \n",
    "print(data[(data['HS'] == 1) & (data['Abusive']==0)]['Tweet'][:20])"
   ]
  },
  {
   "cell_type": "code",
   "execution_count": 199,
   "metadata": {},
   "outputs": [
    {
     "name": "stdout",
     "output_type": "stream",
     "text": [
      "USER selamat datang rezim Komunis Anti Islam\n"
     ]
    }
   ],
   "source": [
    "print(data[(data['HS'] == 1) & (data['Abusive']==0)]['Tweet'][12979])"
   ]
  },
  {
   "cell_type": "code",
   "execution_count": 200,
   "metadata": {},
   "outputs": [
    {
     "name": "stdout",
     "output_type": "stream",
     "text": [
      "1     RT USER: USER siapa yang telat ngasih tau elu?...\n",
      "7     Gue baru aja kelar re-watch Aldnoah Zero!!! pa...\n",
      "9                         USER Enak lg klo smbil ngewe'\n",
      "17    Ari sarua beki mah repeh monyet\\xf0\\x9f\\x98\\x8...\n",
      "20    Asw ya tapi gua jarang ngambek, tacut wkkwkwkw...\n",
      "33    RT USER: Kelakuan homok jaman now, ngentot aja...\n",
      "36    \\xe2\\x80\\x9dPara Bajingan yang telah melukai L...\n",
      "39                       Edan emang goollnya fabiano!!'\n",
      "56                             USER dari pada gua nete'\n",
      "78                              USER bunda ngentot yuk'\n",
      "Name: Tweet, dtype: object\n"
     ]
    }
   ],
   "source": [
    "#contoh case tweet yang mengandung abusive\n",
    "print(data[(data['HS'] == 0) & (data['Abusive']==1)]['Tweet'][:10])"
   ]
  },
  {
   "cell_type": "code",
   "execution_count": 201,
   "metadata": {},
   "outputs": [
    {
     "name": "stdout",
     "output_type": "stream",
     "text": [
      "\\xe2\\x80\\x9dPara Bajingan yang telah melukai Lady harus menerima ganjaran seratus kali lipat!!\\xe2\\x80\\x9d(sanji) ##HBD17thPelautJKT48'\n"
     ]
    }
   ],
   "source": [
    "print(data[(data['HS'] == 0) & (data['Abusive']==1)]['Tweet'][36])"
   ]
  },
  {
   "cell_type": "code",
   "execution_count": 202,
   "metadata": {},
   "outputs": [],
   "source": [
    "# melihat persentase target kata kasar\n",
    "\n",
    "def target(x):\n",
    "    if x['HS_Individual'] == 1 and x['HS_Group'] == 0:\n",
    "        return 'Individu'\n",
    "    elif x['HS_Individual'] == 0 and x['HS_Group'] == 1:\n",
    "        return 'Kelompok'\n",
    "    else:\n",
    "        return 'None'\n",
    "        \n",
    "data['Target'] = data.apply(target, axis=1)"
   ]
  },
  {
   "cell_type": "code",
   "execution_count": 203,
   "metadata": {},
   "outputs": [
    {
     "data": {
      "text/plain": [
       "None        7522\n",
       "Individu    3528\n",
       "Kelompok    1973\n",
       "Name: Target, dtype: int64"
      ]
     },
     "execution_count": 203,
     "metadata": {},
     "output_type": "execute_result"
    }
   ],
   "source": [
    "data['Target'].value_counts()"
   ]
  },
  {
   "cell_type": "code",
   "execution_count": 204,
   "metadata": {},
   "outputs": [
    {
     "data": {
      "text/plain": [
       "Individu    3528\n",
       "Kelompok    1973\n",
       "Name: Target, dtype: int64"
      ]
     },
     "execution_count": 204,
     "metadata": {},
     "output_type": "execute_result"
    }
   ],
   "source": [
    "# cleaning none pada kolom target\n",
    "filter = data['Target'] == 'None'\n",
    "data[~filter]['Target'].value_counts()"
   ]
  },
  {
   "cell_type": "code",
   "execution_count": 205,
   "metadata": {},
   "outputs": [
    {
     "data": {
      "text/plain": [
       "<Axes: ylabel='Target'>"
      ]
     },
     "execution_count": 205,
     "metadata": {},
     "output_type": "execute_result"
    },
    {
     "data": {
      "image/png": "[encoded data removed]",
      "text/plain": [
       "<Figure size 640x480 with 1 Axes>"
      ]
     },
     "metadata": {},
     "output_type": "display_data"
    }
   ],
   "source": [
    "# visualisasi data target sasaran kata-kata kasar\n",
    "data[~filter]['Target'].value_counts().plot.pie(autopct='%1.0f%%', colors = ['#408E91','#245953'])"
   ]
  },
  {
   "cell_type": "code",
   "execution_count": 206,
   "metadata": {},
   "outputs": [
    {
     "data": {
      "text/html": [
       "<div>\n",
       "<style scoped>\n",
       "    .dataframe tbody tr th:only-of-type {\n",
       "        vertical-align: middle;\n",
       "    }\n",
       "\n",
       "    .dataframe tbody tr th {\n",
       "        vertical-align: top;\n",
       "    }\n",
       "\n",
       "    .dataframe thead th {\n",
       "        text-align: right;\n",
       "    }\n",
       "</style>\n",
       "<table border=\"1\" class=\"dataframe\">\n",
       "  <thead>\n",
       "    <tr style=\"text-align: right;\">\n",
       "      <th></th>\n",
       "      <th>ABUSIVE</th>\n",
       "    </tr>\n",
       "  </thead>\n",
       "  <tbody>\n",
       "    <tr>\n",
       "      <th>0</th>\n",
       "      <td>alay</td>\n",
       "    </tr>\n",
       "    <tr>\n",
       "      <th>1</th>\n",
       "      <td>ampas</td>\n",
       "    </tr>\n",
       "    <tr>\n",
       "      <th>2</th>\n",
       "      <td>buta</td>\n",
       "    </tr>\n",
       "    <tr>\n",
       "      <th>3</th>\n",
       "      <td>keparat</td>\n",
       "    </tr>\n",
       "    <tr>\n",
       "      <th>4</th>\n",
       "      <td>anjing</td>\n",
       "    </tr>\n",
       "  </tbody>\n",
       "</table>\n",
       "</div>"
      ],
      "text/plain": [
       "   ABUSIVE\n",
       "0     alay\n",
       "1    ampas\n",
       "2     buta\n",
       "3  keparat\n",
       "4   anjing"
      ]
     },
     "execution_count": 206,
     "metadata": {},
     "output_type": "execute_result"
    }
   ],
   "source": [
    "df_abusive.head()"
   ]
  },
  {
   "cell_type": "code",
   "execution_count": 207,
   "metadata": {},
   "outputs": [
    {
     "data": {
      "text/html": [
       "<div>\n",
       "<style scoped>\n",
       "    .dataframe tbody tr th:only-of-type {\n",
       "        vertical-align: middle;\n",
       "    }\n",
       "\n",
       "    .dataframe tbody tr th {\n",
       "        vertical-align: top;\n",
       "    }\n",
       "\n",
       "    .dataframe thead th {\n",
       "        text-align: right;\n",
       "    }\n",
       "</style>\n",
       "<table border=\"1\" class=\"dataframe\">\n",
       "  <thead>\n",
       "    <tr style=\"text-align: right;\">\n",
       "      <th></th>\n",
       "      <th>ABUSIVE</th>\n",
       "    </tr>\n",
       "  </thead>\n",
       "  <tbody>\n",
       "    <tr>\n",
       "      <th>count</th>\n",
       "      <td>125</td>\n",
       "    </tr>\n",
       "    <tr>\n",
       "      <th>unique</th>\n",
       "      <td>125</td>\n",
       "    </tr>\n",
       "    <tr>\n",
       "      <th>top</th>\n",
       "      <td>alay</td>\n",
       "    </tr>\n",
       "    <tr>\n",
       "      <th>freq</th>\n",
       "      <td>1</td>\n",
       "    </tr>\n",
       "  </tbody>\n",
       "</table>\n",
       "</div>"
      ],
      "text/plain": [
       "       ABUSIVE\n",
       "count      125\n",
       "unique     125\n",
       "top       alay\n",
       "freq         1"
      ]
     },
     "execution_count": 207,
     "metadata": {},
     "output_type": "execute_result"
    }
   ],
   "source": [
    "df_abusive.describe()"
   ]
  },
  {
   "cell_type": "code",
   "execution_count": 208,
   "metadata": {},
   "outputs": [
    {
     "data": {
      "text/plain": [
       "'\"\\nfrom wordcloud import WordCloud\\n\\ndef createwc(text):\\n  wc = WordCloud(width=800, height=800, background_color=\\'white\\').generate(text)\\n  return wc\\n\\n  plt.figure(figsize=(8,8))\\n  plt.imshow(createwc)\\n  plt.axis(\\'off\\')\\n  plt.show()\\n\\n'"
      ]
     },
     "execution_count": 208,
     "metadata": {},
     "output_type": "execute_result"
    }
   ],
   "source": [
    "# visualisasi kata-kata kasar dengan wordcloud\n",
    "\n",
    "\"\"\"\"\n",
    "from wordcloud import WordCloud\n",
    "\n",
    "def createwc(text):\n",
    "  wc = WordCloud(width=800, height=800, background_color='white').generate(text)\n",
    "  return wc\n",
    "\n",
    "  plt.figure(figsize=(8,8))\n",
    "  plt.imshow(createwc)\n",
    "  plt.axis('off')\n",
    "  plt.show()\n",
    "\n",
    "\"\"\""
   ]
  },
  {
   "cell_type": "code",
   "execution_count": 209,
   "metadata": {},
   "outputs": [
    {
     "data": {
      "text/plain": [
       "'\"\\n\\ncreatewc(\\' \\'.join(df_abusive[\\'ABUSIVE\\'].tolist()))\\n\\nnote: wordcloud tidak dapat bekerja karena ada komponen di PC yang tidak compatible\\n'"
      ]
     },
     "execution_count": 209,
     "metadata": {},
     "output_type": "execute_result"
    }
   ],
   "source": [
    "\"\"\"\"\n",
    "\n",
    "createwc(' '.join(df_abusive['ABUSIVE'].tolist()))\n",
    "\n",
    "note: wordcloud tidak dapat bekerja karena ada komponen di PC yang tidak compatible\n",
    "\"\"\""
   ]
  },
  {
   "attachments": {},
   "cell_type": "markdown",
   "metadata": {},
   "source": [
    "Note perbaikan: abusive di remove, bukan di replace\n",
    "1) buat fungsi censor(remove)\n",
    "2) perbaiki for abusivearr in abusiveword: bisa liat di recording atau di repository ku folder Code request "
   ]
  },
  {
   "cell_type": "code",
   "execution_count": 210,
   "metadata": {},
   "outputs": [],
   "source": [
    "# cleaning untuk save data.csv ke SQL\n",
    "\n",
    "def lowercase(text):\n",
    "    return text.lower()\n",
    "\n",
    "def removechars(text):\n",
    "    text = re.sub('\\n',' ',text) \n",
    "    text = re.sub('rt',' ',text) \n",
    "    text = re.sub('user',' ',text) \n",
    "    text = re.sub('((www\\.[^\\s]+)|(https?://[^\\s]+)|(http?://[^\\s]+))',' ',text)\n",
    "    text = re.sub('  +', ' ', text)  \n",
    "    return text\n",
    "    \n",
    "def removenothers(text):\n",
    "    text = re.sub('[^0-9a-zA-Z~*]+', ' ', text) \n",
    "    return text\n",
    "\n",
    "def cleaning(text):\n",
    "    text = lowercase(text)\n",
    "    text = removechars(text)\n",
    "    text = removenothers(text)\n",
    "    return text"
   ]
  },
  {
   "cell_type": "code",
   "execution_count": 211,
   "metadata": {},
   "outputs": [],
   "source": [
    "# fungsi untuk menyensor kata kasar\n",
    "\n",
    "def censor(text):\n",
    "    abusiveword = df_abusive['ABUSIVE'].tolist()\n",
    "    for word in abusiveword:\n",
    "        pattern = re.compile(r'\\b{}\\b'.format(word))\n",
    "        length = len(word)\n",
    "        replacement = '*' * length\n",
    "        text = pattern.sub(replacement, text.lower())\n",
    "    return text"
   ]
  },
  {
   "cell_type": "code",
   "execution_count": 225,
   "metadata": {},
   "outputs": [
    {
     "name": "stdout",
     "output_type": "stream",
     "text": [
      "bunga ******** **** anak haram \n"
     ]
    }
   ],
   "source": [
    "print(cleaning(censor(\"bunga, bajingan, babi, anak #$%haram?\")))"
   ]
  },
  {
   "cell_type": "code",
   "execution_count": 213,
   "metadata": {},
   "outputs": [
    {
     "data": {
      "text/html": [
       "<div>\n",
       "<style scoped>\n",
       "    .dataframe tbody tr th:only-of-type {\n",
       "        vertical-align: middle;\n",
       "    }\n",
       "\n",
       "    .dataframe tbody tr th {\n",
       "        vertical-align: top;\n",
       "    }\n",
       "\n",
       "    .dataframe thead th {\n",
       "        text-align: right;\n",
       "    }\n",
       "</style>\n",
       "<table border=\"1\" class=\"dataframe\">\n",
       "  <thead>\n",
       "    <tr style=\"text-align: right;\">\n",
       "      <th></th>\n",
       "      <th>TIDAKBAKU</th>\n",
       "      <th>BAKU</th>\n",
       "    </tr>\n",
       "  </thead>\n",
       "  <tbody>\n",
       "    <tr>\n",
       "      <th>0</th>\n",
       "      <td>anakjakartaasikasik</td>\n",
       "      <td>anak jakarta asyik asyik</td>\n",
       "    </tr>\n",
       "    <tr>\n",
       "      <th>1</th>\n",
       "      <td>pakcikdahtua</td>\n",
       "      <td>pak cik sudah tua</td>\n",
       "    </tr>\n",
       "    <tr>\n",
       "      <th>2</th>\n",
       "      <td>pakcikmudalagi</td>\n",
       "      <td>pak cik muda lagi</td>\n",
       "    </tr>\n",
       "    <tr>\n",
       "      <th>3</th>\n",
       "      <td>t3tapjokowi</td>\n",
       "      <td>tetap jokowi</td>\n",
       "    </tr>\n",
       "    <tr>\n",
       "      <th>4</th>\n",
       "      <td>3x</td>\n",
       "      <td>tiga kali</td>\n",
       "    </tr>\n",
       "  </tbody>\n",
       "</table>\n",
       "</div>"
      ],
      "text/plain": [
       "             TIDAKBAKU                      BAKU\n",
       "0  anakjakartaasikasik  anak jakarta asyik asyik\n",
       "1         pakcikdahtua         pak cik sudah tua\n",
       "2       pakcikmudalagi         pak cik muda lagi\n",
       "3          t3tapjokowi              tetap jokowi\n",
       "4                   3x                 tiga kali"
      ]
     },
     "execution_count": 213,
     "metadata": {},
     "output_type": "execute_result"
    }
   ],
   "source": [
    "df_kbbi.head()"
   ]
  },
  {
   "cell_type": "code",
   "execution_count": 214,
   "metadata": {},
   "outputs": [
    {
     "data": {
      "text/html": [
       "<div>\n",
       "<style scoped>\n",
       "    .dataframe tbody tr th:only-of-type {\n",
       "        vertical-align: middle;\n",
       "    }\n",
       "\n",
       "    .dataframe tbody tr th {\n",
       "        vertical-align: top;\n",
       "    }\n",
       "\n",
       "    .dataframe thead th {\n",
       "        text-align: right;\n",
       "    }\n",
       "</style>\n",
       "<table border=\"1\" class=\"dataframe\">\n",
       "  <thead>\n",
       "    <tr style=\"text-align: right;\">\n",
       "      <th></th>\n",
       "      <th>TIDAKBAKU</th>\n",
       "      <th>BAKU</th>\n",
       "    </tr>\n",
       "  </thead>\n",
       "  <tbody>\n",
       "    <tr>\n",
       "      <th>count</th>\n",
       "      <td>15167</td>\n",
       "      <td>15167</td>\n",
       "    </tr>\n",
       "    <tr>\n",
       "      <th>unique</th>\n",
       "      <td>15167</td>\n",
       "      <td>8639</td>\n",
       "    </tr>\n",
       "    <tr>\n",
       "      <th>top</th>\n",
       "      <td>anakjakartaasikasik</td>\n",
       "      <td>wkwk</td>\n",
       "    </tr>\n",
       "    <tr>\n",
       "      <th>freq</th>\n",
       "      <td>1</td>\n",
       "      <td>100</td>\n",
       "    </tr>\n",
       "  </tbody>\n",
       "</table>\n",
       "</div>"
      ],
      "text/plain": [
       "                  TIDAKBAKU   BAKU\n",
       "count                 15167  15167\n",
       "unique                15167   8639\n",
       "top     anakjakartaasikasik   wkwk\n",
       "freq                      1    100"
      ]
     },
     "execution_count": 214,
     "metadata": {},
     "output_type": "execute_result"
    }
   ],
   "source": [
    "df_kbbi.describe()"
   ]
  },
  {
   "cell_type": "code",
   "execution_count": 220,
   "metadata": {},
   "outputs": [],
   "source": [
    "# buat fungsi untuk mereplace kalimat non baku menjadi baku\n",
    "\n",
    "def changealay(txt):\n",
    "    alay = dict(zip(df_kbbi['TIDAKBAKU'], df_kbbi['BAKU']))\n",
    "    txt = ' '.join([alay[word] if word in alay else word for word in txt.split(' ')])\n",
    "    return txt\n",
    "\n",
    "\n",
    "# repsentence = []\n",
    "# repsentence = re.sub(df_kbbi['TIDAKBAKU']: ['BAKU'] for data['Tweet'] in data)\n",
    "# print(repsentence[])"
   ]
  },
  {
   "cell_type": "code",
   "execution_count": 224,
   "metadata": {},
   "outputs": [
    {
     "name": "stdout",
     "output_type": "stream",
     "text": [
      "anak jakarta asyik asyik\n"
     ]
    }
   ],
   "source": [
    "print(changealay(\"anakjakartaasikasik\"))"
   ]
  },
  {
   "cell_type": "code",
   "execution_count": 36,
   "metadata": {},
   "outputs": [],
   "source": [
    "# cleaning untuk save data.csv ke SQL\n",
    "\n",
    "def lowercase(text):\n",
    "    return text.lower()\n",
    "\n",
    "def removechars(text):\n",
    "    text = re.sub('\\n',' ',text) \n",
    "    text = re.sub('rt',' ',text) \n",
    "    text = re.sub('user',' ',text) \n",
    "    text = re.sub('((www\\.[^\\s]+)|(https?://[^\\s]+)|(http?://[^\\s]+))',' ',text) \n",
    "    text = re.sub('  +', ' ', text) \n",
    "    return text\n",
    "    \n",
    "def removenothers(text):\n",
    "    text = re.sub('[^0-9a-zA-Z]+', ' ', text) \n",
    "    return text\n",
    "\n",
    "def cleaning(text):\n",
    "    text = lowercase(text)\n",
    "    text = removechars(text)\n",
    "    text = removenothers(text)\n",
    "    return text\n"
   ]
  },
  {
   "cell_type": "code",
   "execution_count": 37,
   "metadata": {},
   "outputs": [],
   "source": [
    "# apply cleaning pada kolom Tweet\n",
    "data['Tweet'] = data['Tweet'].apply(cleaning)"
   ]
  },
  {
   "cell_type": "code",
   "execution_count": 38,
   "metadata": {},
   "outputs": [],
   "source": [
    "# save data csv ke format sql\n",
    "\n",
    "conn = sqlite3.connect('D:/Binar/Challenge/BinarChallenge1/AssetChallenge/datacsv_tosql.db')\n",
    "data.to_sql('Datanew', conn, if_exists='replace', index=False)\n",
    "\n",
    "conn.close()"
   ]
  },
  {
   "attachments": {},
   "cell_type": "markdown",
   "metadata": {},
   "source": [
    "#### Good lanjutkan code nya, kalau ada update di push ke github ya biar bisa di cek"
   ]
  },
  {
   "cell_type": "markdown",
   "metadata": {},
   "source": []
  },
  {
   "cell_type": "code",
   "execution_count": 39,
   "metadata": {},
   "outputs": [],
   "source": [
    "from flasgger import Swagger, LazyString, LazyJSONEncoder"
   ]
  }
 ],
 "metadata": {
  "kernelspec": {
   "display_name": "envbinar",
   "language": "python",
   "name": "python3"
  },
  "language_info": {
   "codemirror_mode": {
    "name": "ipython",
    "version": 3
   },
   "file_extension": ".py",
   "mimetype": "text/x-python",
   "name": "python",
   "nbconvert_exporter": "python",
   "pygments_lexer": "ipython3",
   "version": "3.11.0"
  },
  "orig_nbformat": 4,
  "vscode": {
   "interpreter": {
    "hash": "e67d087ed45544e085d6317c24bb6ccd4c1a6ce65acdd0dd3f527c245e3d153e"
   }
  }
 },
 "nbformat": 4,
 "nbformat_minor": 2
}
